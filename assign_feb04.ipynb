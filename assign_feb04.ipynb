{
 "cells": [
  {
   "cell_type": "code",
   "execution_count": 25,
   "id": "e689eaa2-7e5f-43f1-85df-20710c9787a4",
   "metadata": {},
   "outputs": [
     "data": {
      "text/plain": [
       "[('Virat Kohli', 24936),\n",
       " ('Jack Kallis', 25534),\n",
       " ('Ricky Ponting', 27483),\n",
       " ('Sachin Tendulkar', 34357)]"
      ]
     },
     "execution_count": 25,
     "metadata": {},
     "output_type": "execute_result"
    }
   ],
   "source": [
    "#Q1 \n",
    "lis = [('Sachin Tendulkar', 34357), ('Ricky Ponting', 27483), ('Jack Kallis', 25534), ('Virat Kohli', 24936)]\n",
    "lis.sort(key = lambda x: x[1])\n",
    "lis"
   ]
  },
  {
   "cell_type": "code",
   "execution_count": 3,
   "id": "14f5d4f6-7f36-490b-85d3-90ddf625618f",
   "metadata": {},
   "outputs": [
    {
     "data": {
      "text/plain": [
       "[1, 4, 9, 16, 25, 36, 49, 64, 81, 100]"
      ]
     },
     "execution_count": 3,
     "metadata": {},
     "output_type": "execute_result"
    }
   ],
   "source": [
    "#Q2\n",
    "lis2 = [1, 2, 3, 4, 5, 6, 7, 8, 9, 10]\n",
    "list(map(lambda x : x**2,lis2))"
   ]
  },
  {
   "cell_type": "code",
   "execution_count": 4,
   "id": "190191a8-8950-4efa-b233-fc8c5de9d7a9",
   "metadata": {},
   "outputs": [
    {
     "data": {
      "text/plain": [
       "['1', '2', '3', '4', '5', '6', '7', '8', '9', '10']"
      ]
     },
     "execution_count": 4,
     "metadata": {},
     "output_type": "execute_result"
    }
   ],
   "source": [
    "#Q3\n",
    "lis3 = [1, 2, 3, 4, 5, 6, 7, 8, 9, 10]\n",
    "list(map(lambda x : str(x) , lis3))"
   ]
  },
  {
   "cell_type": "code",
   "execution_count": 11,
   "id": "4f292ed2-9fc8-4c7d-9747-e9bbe56c1094",
   "metadata": {},
   "outputs": [
    {
     "data": {
      "text/plain": [
       "15511210043330985984000000"
      ]
     },
     "execution_count": 11,
     "metadata": {},
     "output_type": "execute_result"
    }
   ],
   "source": [
    "#Q4 \n",
    "from functools import reduce\n",
    "n = range(1,26)\n",
    "reduce(lambda x,y: x*y, n)"
   ]
  },
  {
   "cell_type": "code",
   "execution_count": 14,
   "id": "164a123a-a164-449e-b904-45bcc5662a4a",
   "metadata": {},
   "outputs": [
    {
     "data": {
      "text/plain": [
       "[6, 60, 90, 120]"
      ]
     },
     "execution_count": 14,
     "metadata": {},
     "output_type": "execute_result"
    }
   ],
   "source": [
    "#Q5\n",
    "lis5 = [2, 3, 6, 9, 27, 60, 90, 120, 55, 46]\n",
    "list(filter(lambda x : x%2==0 and x%3==0,lis5))"
   ]
  },
  {
   "cell_type": "code",
   "execution_count": 20,
   "id": "9338d4c9-9b97-4161-b98d-3df0a0fad32d",
   "metadata": {},
   "outputs": [
    {
     "data": {
      "text/plain": [
       "['php', 'aba', 'radar', 'level']"
      ]
     },
     "execution_count": 20,
     "metadata": {},
     "output_type": "execute_result"
    }
   ],
   "source": [
    "#Q6\n",
    "lis6 = ['python', 'php', 'aba', 'radar', 'level']\n",
    "list(filter(lambda s: s == s[::-1],lis6))"
   ]
  },
  {
   "cell_type": "code",
   "execution_count": null,
   "id": "28b1bf0c-56db-4450-8286-6f294c0b0ed7",
   "metadata": {},
   "outputs": [],
   "source": []
  }
 ],
 "metadata": {
  "kernelspec": {
   "display_name": "Python 3 (ipykernel)",
   "language": "python",
   "name": "python3"
  },
  "language_info": {
   "codemirror_mode": {
    "name": "ipython",
    "version": 3
   },
   "file_extension": ".py",
   "mimetype": "text/x-python",
   "name": "python",
   "nbconvert_exporter": "python",
   "pygments_lexer": "ipython3",
   "version": "3.10.8"
  }
 },
 "nbformat": 4,
 "nbformat_minor": 5
}
