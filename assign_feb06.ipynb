{
 "cells": [
  {
   "cell_type": "code",
   "execution_count": 33,
   "id": "61ebdcc8-7abf-47f9-a6c8-d260c1b35fb4",
   "metadata": {},
   "outputs": [
    {
     "name": "stdout",
     "output_type": "stream",
     "text": [
      "4134711838987085478833841242112000\n"
     ]
    }
   ],
   "source": [
    "#Q1\n",
    "lis = [1,2,3,4, [44,55,66, True], False, (34,56,78,89,34), {1,2,3,3,2,1}, {1:34, \"key2\": [55, 67, 78, 89], 4: (45,\n",
    "22, 61, 34)}, [56, 'data science'], 'Machine Learning']\n",
    "from functools import reduce\n",
    "def intType(e):\n",
    "    if type(e) == int:\n",
    "        return True\n",
    "def ltsc(e):\n",
    "    if type(e) == list or type(e) == tuple or type(e) == set:\n",
    "        return True;\n",
    "def flatten(lis):\n",
    "    l = []\n",
    "    if intType(lis):\n",
    "        l.append(lis)\n",
    "    else:\n",
    "        for i in lis:\n",
    "            if intType(i):\n",
    "                l.append(i)\n",
    "            elif ltsc(i):\n",
    "                for j in i:\n",
    "                    if intType(j):\n",
    "                        l.append(j)\n",
    "            elif type(i) == dict:\n",
    "                newlist = list(i.keys())\n",
    "                for a in newlist:\n",
    "                    l.extend(flatten(a))\n",
    "                    l.extend(flatten(i.get(a)))\n",
    "    return l\n",
    "def func2(lis):\n",
    "    return reduce(lambda x, y: x * y,flatten(lis))\n",
    "\n",
    "res = func2(lis)\n",
    "print(res)\n"
   ]
  },
  {
   "cell_type": "code",
   "execution_count": 31,
   "id": "dc8c053d-d1a1-4ae1-8cb5-9d0cb129ca69",
   "metadata": {},
   "outputs": [],
   "source": [
    "#Q2\n",
    "inputStr = \"I want to become a Data Scientist.\"\n",
    "def strEncrypt(i):\n",
    "    i = ord(i)-96;\n",
    "    return chr((26-i)+97)\n",
    "def encrypt(i):\n",
    "    if i == ' ':\n",
    "        return '$'\n",
    "    elif i == '.':\n",
    "        return i\n",
    "    else:\n",
    "        return strEncrypt(str.lower(i))"
   ]
  },
  {
   "cell_type": "code",
   "execution_count": 32,
   "id": "3655cee4-1d86-4cc6-8b8b-b599e0855190",
   "metadata": {},
   "outputs": [
    {
     "name": "stdout",
     "output_type": "stream",
     "text": [
      "r$dzmg$gl$yvxlnv$z$wzgz$hxrvmgrhg."
     ]
    }
   ],
   "source": [
    "for i in inputStr:\n",
    "    print(encrypt(i),end='')"
   ]
  },
  {
   "cell_type": "code",
   "execution_count": null,
   "id": "f66f418f-2fbf-4079-b8d3-55caab9a0261",
   "metadata": {},
   "outputs": [],
   "source": []
  }
 ],
 "metadata": {
  "kernelspec": {
   "display_name": "Python 3 (ipykernel)",
   "language": "python",
   "name": "python3"
  },
  "language_info": {
   "codemirror_mode": {
    "name": "ipython",
    "version": 3
   },
   "file_extension": ".py",
   "mimetype": "text/x-python",
   "name": "python",
   "nbconvert_exporter": "python",
   "pygments_lexer": "ipython3",
   "version": "3.10.8"
  }
 },
 "nbformat": 4,
 "nbformat_minor": 5
}
