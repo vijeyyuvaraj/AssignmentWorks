{
 "cells": [
  {
   "cell_type": "code",
   "execution_count": 1,
   "id": "d9dc00fb-df9a-45d1-8b2f-118fe5dfc79d",
   "metadata": {},
   "outputs": [],
   "source": [
    "#Q1\n",
    "class vehicle:\n",
    "    def __init__(self,name_of_vehicle, max_speed, average_speed):\n",
    "        self.name_of_vehicle = name_of_vehicle\n",
    "        self.max_speed = max_speed\n",
    "        self.average_speed = average_speed    "
   ]
  },
  {
   "cell_type": "code",
   "execution_count": 13,
   "id": "ca7aa568-889e-4803-a1ce-8419677ba302",
   "metadata": {},
   "outputs": [],
   "source": [
    "#Q2\n",
    "class car(vehicle):\n",
    "    def seating_capacity(self,capacity):\n",
    "        self.capacity = capacity\n",
    "        return capacity, self.name_of_vehicle"
   ]
  },
  {
   "cell_type": "code",
   "execution_count": 14,
   "id": "a37c7813-4c2d-4764-a9ba-ee22e86aeb3b",
   "metadata": {},
   "outputs": [],
   "source": [
    "c = car(\"Mercedes Benz\",210,90)"
   ]
  },
  {
   "cell_type": "code",
   "execution_count": 15,
   "id": "eb4ac506-e912-4d1d-a616-a1423dfa240d",
   "metadata": {},
   "outputs": [
    {
     "data": {
      "text/plain": [
       "(6, 'Mercedes Benz')"
      ]
     },
     "execution_count": 15,
     "metadata": {},
     "output_type": "execute_result"
    }
   ],
   "source": [
    "c.seating_capacity(6)"
   ]
  },
  {
   "cell_type": "code",
   "execution_count": 16,
   "id": "b9f0fd17-dc05-41ad-a36b-b892e68927aa",
   "metadata": {},
   "outputs": [],
   "source": [
    "#Q3 Multiple inheritance is when a python class tries to inherit 2 or more classes.\n",
    "class c1:\n",
    "    pass\n",
    "class c2:\n",
    "    pass\n",
    "class finalClass(c1, c2):\n",
    "    pass"
   ]
  },
  {
   "cell_type": "code",
   "execution_count": null,
   "id": "e83e7f43-d8ca-4950-852c-746d1a866b69",
   "metadata": {},
   "outputs": [],
   "source": [
    "#Here finalClass has the multiple inheritance implemented."
   ]
  },
  {
   "cell_type": "code",
   "execution_count": 26,
   "id": "2e5be08c-bdf4-438a-9a2f-a712a2b8e33a",
   "metadata": {},
   "outputs": [],
   "source": [
    "#Q4\n",
    "#getter and setter are the methods of the class by which variables are accessed.\n",
    "class vehicle:\n",
    "    def setModel(self, model):\n",
    "        self.__model = model\n",
    "    def getModel(self):\n",
    "        return self.__model\n",
    "    "
   ]
  },
  {
   "cell_type": "code",
   "execution_count": 28,
   "id": "5f3a322a-ef60-4d37-b4f2-9005ac0ad468",
   "metadata": {},
   "outputs": [],
   "source": [
    "v = vehicle()"
   ]
  },
  {
   "cell_type": "code",
   "execution_count": 29,
   "id": "cf4b81f7-bf6f-4ca5-b871-6bb64501bc1f",
   "metadata": {},
   "outputs": [],
   "source": [
    "v.setModel(\"MG Astor\")"
   ]
  },
  {
   "cell_type": "code",
   "execution_count": 30,
   "id": "7a4ef231-9724-48d0-8a73-27f9c2da23e4",
   "metadata": {},
   "outputs": [
    {
     "data": {
      "text/plain": [
       "'MG Astor'"
      ]
     },
     "execution_count": 30,
     "metadata": {},
     "output_type": "execute_result"
    }
   ],
   "source": [
    "v.getModel()"
   ]
  },
  {
   "cell_type": "code",
   "execution_count": 31,
   "id": "5c9b3b4d-39aa-48d6-bdb2-6a6c82d82966",
   "metadata": {},
   "outputs": [],
   "source": [
    "#Q5\n",
    "#Method overriding is the ability to redefine a function which is already defined by the parent or super class"
   ]
  },
  {
   "cell_type": "code",
   "execution_count": 35,
   "id": "8c6915b0-b7d5-48ce-a588-eed821b55fff",
   "metadata": {},
   "outputs": [
    {
     "name": "stdout",
     "output_type": "stream",
     "text": [
      " 50+ \n",
      " 20+ \n"
     ]
    }
   ],
   "source": [
    "class parent:\n",
    "    def getAge(self):\n",
    "        print(\" 50+ \")\n",
    "class child(parent):\n",
    "    def getAge(self):\n",
    "        print(\" 20+ \")\n",
    "p = parent()\n",
    "p.getAge()\n",
    "c = child()\n",
    "c.getAge()    "
   ]
  },
  {
   "cell_type": "code",
   "execution_count": null,
   "id": "656ffc64-efe8-408f-a399-a1c7155f7c26",
   "metadata": {},
   "outputs": [],
   "source": []
  }
 ],
 "metadata": {
  "kernelspec": {
   "display_name": "Python 3 (ipykernel)",
   "language": "python",
   "name": "python3"
  },
  "language_info": {
   "codemirror_mode": {
    "name": "ipython",
    "version": 3
   },
   "file_extension": ".py",
   "mimetype": "text/x-python",
   "name": "python",
   "nbconvert_exporter": "python",
   "pygments_lexer": "ipython3",
   "version": "3.10.8"
  }
 },
 "nbformat": 4,
 "nbformat_minor": 5
}
