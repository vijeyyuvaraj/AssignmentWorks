{
 "cells": [
  {
   "cell_type": "code",
   "execution_count": 1,
   "id": "5654f6e0-0067-4fcb-9398-18b794dcdea2",
   "metadata": {},
   "outputs": [],
   "source": [
    "#Q1\n",
    "def passwordValidator(s):\n",
    "    criteria_met = 0;\n",
    "\n",
    "    if len([i for i in s if i.islower()]) >= 2:\n",
    "        criteria_met += 1\n",
    "\n",
    "    if len([i for i in s if i.isupper()]) >= 2:\n",
    "        criteria_met += 1\n",
    "\n",
    "    if len([i for i in s if i.isnumeric()]) >= 1:\n",
    "        criteria_met += 1\n",
    "\n",
    "    if len([i for i in s if i in \"$!@#%^&*()_+?\"]) >= 3:\n",
    "        criteria_met += 1\n",
    "\n",
    "    if len(s) >= 10:\n",
    "        criteria_met += 1\n",
    "\n",
    "    if criteria_met==5:\n",
    "        return \"Valid Password\"\n",
    "    else:\n",
    "        return \"Invalid Password\""
   ]
  },
  {
   "cell_type": "code",
   "execution_count": 2,
   "id": "38e5cf7c-fc69-4859-9532-ddf21f767834",
   "metadata": {},
   "outputs": [
    {
     "name": "stdout",
     "output_type": "stream",
     "text": [
      "Valid Password\n"
     ]
    }
   ],
   "source": [
    "print(passwordValidator(\"VI$@!1je2m\"))"
   ]
  },
  {
   "cell_type": "code",
   "execution_count": 4,
   "id": "5a916c12-2b54-4abc-95d3-43d00590f8a6",
   "metadata": {},
   "outputs": [
    {
     "name": "stdout",
     "output_type": "stream",
     "text": [
      "Invalid Password\n"
     ]
    }
   ],
   "source": [
    "print(passwordValidator(\"VI$!1je2am\"))"
   ]
  },
  {
   "cell_type": "code",
   "execution_count": 7,
   "id": "3e3ee57a-a4d8-45b2-b819-089535d4f8e6",
   "metadata": {},
   "outputs": [
    {
     "data": {
      "text/plain": [
       "['2', '2']"
      ]
     },
     "execution_count": 7,
     "metadata": {},
     "output_type": "execute_result"
    }
   ],
   "source": [
    "#Q2\n",
    "#check if the string is numeric\n",
    "s = '22'\n",
    "[x for x in s if x.isnumeric()==True]"
   ]
  },
  {
   "cell_type": "code",
   "execution_count": 8,
   "id": "8d5f38ab-4d14-4d4e-83fc-dc79aceebabc",
   "metadata": {},
   "outputs": [],
   "source": [
    "#Sort a list of tuples having fruit names and their quantity. [(\"mango\",99),(\"orange\",80), (\"grapes\", 1000)]\n",
    "lis = [(\"mango\",99),(\"orange\",80), (\"grapes\", 1000)]"
   ]
  },
  {
   "cell_type": "code",
   "execution_count": 11,
   "id": "dbe72c58-2a7e-4e68-bb7d-d402dea3868e",
   "metadata": {},
   "outputs": [],
   "source": [
    "lis.sort(key = lambda x:x[1])"
   ]
  },
  {
   "cell_type": "code",
   "execution_count": 12,
   "id": "6b5a5b9f-fc18-4c09-88cb-67774ce4e1f9",
   "metadata": {},
   "outputs": [
    {
     "data": {
      "text/plain": [
       "[('orange', 80), ('mango', 99), ('grapes', 1000)]"
      ]
     },
     "execution_count": 12,
     "metadata": {},
     "output_type": "execute_result"
    }
   ],
   "source": [
    "lis"
   ]
  },
  {
   "cell_type": "code",
   "execution_count": 14,
   "id": "6de3bddb-131f-4220-98a3-f3f8b4bb9a63",
   "metadata": {},
   "outputs": [
    {
     "data": {
      "text/plain": [
       "[0, 1, 4, 9, 16, 25, 36, 49, 64, 81]"
      ]
     },
     "execution_count": 14,
     "metadata": {},
     "output_type": "execute_result"
    }
   ],
   "source": [
    "#Find the squares of numbers from 1 to 10\n",
    "[i**2 for i in range(10)]"
   ]
  },
  {
   "cell_type": "code",
   "execution_count": 18,
   "id": "ba4d2f05-f06c-4380-bdf5-2695546af5bd",
   "metadata": {},
   "outputs": [
    {
     "data": {
      "text/plain": [
       "[0.0,\n",
       " 1.0,\n",
       " 1.2599210498948732,\n",
       " 1.4422495703074083,\n",
       " 1.5874010519681994,\n",
       " 1.7099759466766968,\n",
       " 1.8171205928321397,\n",
       " 1.912931182772389,\n",
       " 2.0,\n",
       " 2.080083823051904]"
      ]
     },
     "execution_count": 18,
     "metadata": {},
     "output_type": "execute_result"
    }
   ],
   "source": [
    "#Find the cube root of numbers from 1 to 10Y\n",
    "[i**(1/3) for i in range(10)]"
   ]
  },
  {
   "cell_type": "code",
   "execution_count": 23,
   "id": "adf6db04-e5c8-4eec-9718-891dc5314de5",
   "metadata": {},
   "outputs": [
    {
     "data": {
      "text/plain": [
       "[210]"
      ]
     },
     "execution_count": 23,
     "metadata": {},
     "output_type": "execute_result"
    }
   ],
   "source": [
    "#Check if a given number is even\n",
    "lis = [210]\n",
    "list(filter(lambda x : x%2==0,lis))"
   ]
  },
  {
   "cell_type": "code",
   "execution_count": 25,
   "id": "b33b0302-8585-49b4-8f9d-a0fac8ac6e8b",
   "metadata": {},
   "outputs": [
    {
     "data": {
      "text/plain": [
       "[1, 3, 5, 7, 9]"
      ]
     },
     "execution_count": 25,
     "metadata": {},
     "output_type": "execute_result"
    }
   ],
   "source": [
    "#Filter odd numbers from the given list.\n",
    "lis = [1,2,3,4,5,6,7,8,9,10]\n",
    "[x for x in lis if x%2==1]"
   ]
  },
  {
   "cell_type": "code",
   "execution_count": 31,
   "id": "a6bf994c-c324-468f-9963-68e49e603645",
   "metadata": {},
   "outputs": [],
   "source": [
    "#Sort a list of integers into positive and negative integers lists.\n",
    "lis = [1,2,3,4,5,6,-1,-2,-3,-4,-5,0]\n",
    "res = sorted(lis, key = lambda i: 0 if i == 0 else -1 / i)"
   ]
  },
  {
   "cell_type": "code",
   "execution_count": 32,
   "id": "e26dde93-59af-4ded-8320-9d7408baf9a8",
   "metadata": {},
   "outputs": [
    {
     "data": {
      "text/plain": [
       "[1, 2, 3, 4, 5, 6, 0, -5, -4, -3, -2, -1]"
      ]
     },
     "execution_count": 32,
     "metadata": {},
     "output_type": "execute_result"
    }
   ],
   "source": [
    "res"
   ]
  }
 ],
 "metadata": {
  "kernelspec": {
   "display_name": "Python 3 (ipykernel)",
   "language": "python",
   "name": "python3"
  },
  "language_info": {
   "codemirror_mode": {
    "name": "ipython",
    "version": 3
   },
   "file_extension": ".py",
   "mimetype": "text/x-python",
   "name": "python",
   "nbconvert_exporter": "python",
   "pygments_lexer": "ipython3",
   "version": "3.10.8"
  }
 },
 "nbformat": 4,
 "nbformat_minor": 5
}
