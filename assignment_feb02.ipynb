{
 "cells": [
  {
   "cell_type": "code",
   "execution_count": null,
   "id": "490f49a0-5477-4a46-b6e8-bb367e11f167",
   "metadata": {},
   "outputs": [],
   "source": [
    "#Q1. Tupeles are ordered, indexed and unchangable. Tuples are immutable."
   ]
  },
  {
   "cell_type": "code",
   "execution_count": 17,
   "id": "30885aa8-08f5-4009-9e16-f314c7b56ffc",
   "metadata": {},
   "outputs": [
    {
     "name": "stdout",
     "output_type": "stream",
     "text": [
      "1\n",
      "5\n"
     ]
    }
   ],
   "source": [
    "#Q2. Two inbuilt methods of tuple are count & index.\n",
    "   #The reason is tuple will not support assignment operations & only reading values are possible.\n",
    "t = (1,2,3,4,5,6,7,8)\n",
    "print(t.count(6)) # count of element 6 is one\n",
    "print(t.index(6)) # the index of element 6 is 5"
   ]
  },
  {
   "cell_type": "code",
   "execution_count": 16,
   "id": "ca710ac6-9802-47d5-9bbb-a5cdfda22793",
   "metadata": {},
   "outputs": [
    {
     "name": "stdout",
     "output_type": "stream",
     "text": [
      "{1, 2, 3, 4}\n"
     ]
    }
   ],
   "source": [
    "#Q3 Set data type in python will not allow duplicate elements.\n",
    "s = set([1, 1, 1, 2, 1, 3, 1, 4, 2, 1, 2, 2, 2, 3, 2, 4, 3, 1, 3, 2, 3, 3, 3, 4, 4, 1, 4, 2, 4, 3, 4, 4])\n",
    "print(s)"
   ]
  },
  {
   "cell_type": "code",
   "execution_count": 14,
   "id": "ff8948d5-a6b4-4df3-8a07-4bcf34621dc4",
   "metadata": {},
   "outputs": [
    {
     "name": "stdout",
     "output_type": "stream",
     "text": [
      "{1, 2, 3, 4, 5}  union  {4, 5, 6, 7, 8}\n",
      "{1, 2, 3, 4, 5} {4, 5, 6, 7, 8}  after union ops\n",
      " The result  {1, 2, 3, 4, 5, 6, 7, 8}\n",
      "<class 'set'>  is the return type of union operation.\n",
      "**********************************************\n",
      "{1, 2, 3, 4, 5}  update  {4, 5, 6, 7, 8}\n",
      "{1, 2, 3, 4, 5, 6, 7, 8} {4, 5, 6, 7, 8}  after update ops\n",
      " The result  None\n",
      "<class 'NoneType'>  is the return type of update function\n"
     ]
    }
   ],
   "source": [
    "#Q4. update and union serves the same purpose but the union returns a set combiling the elements whereas\n",
    "#the update function just updates the set and returns none.\n",
    "s1 = {1,2,3,4,5}\n",
    "s2 = {4,5,6,7,8}\n",
    "print(s1,\" union \",s2)\n",
    "unioned = s1.union(s2)\n",
    "print(s1,s2, \" after union ops\")\n",
    "print(\" The result \",unioned)\n",
    "print(type(unioned), \" is the return type of union operation.\")\n",
    "print(\"**********************************************\")\n",
    "s1 = {1,2,3,4,5}\n",
    "s2 = {4,5,6,7,8}\n",
    "print(s1,\" update \", s2)\n",
    "updated = s1.update(s2)\n",
    "print(s1,s2,\" after update ops\")\n",
    "print(\" The result \",updated)\n",
    "print(type(updated), \" is the return type of update function\")"
   ]
  },
  {
   "cell_type": "code",
   "execution_count": 15,
   "id": "4d1704ce-6c9b-48d9-b959-5fd214a0d5bd",
   "metadata": {},
   "outputs": [
    {
     "name": "stdout",
     "output_type": "stream",
     "text": [
      "100+\n",
      "{'name': 'Earth', 'age': '100+', 'Famlily': 'Solar'}\n"
     ]
    }
   ],
   "source": [
    "#Q5. Dictionary is ordered, mutable and dynamic.\n",
    "d1 = {\"name\":\"Earth\", \"age\":\"100+\", \"Famlily\":\"Solar\"}\n",
    "print(d1[\"age\"])\n",
    "print(d1)"
   ]
  },
  {
   "cell_type": "code",
   "execution_count": 12,
   "id": "0e941f60-1a74-42aa-928f-d4cc629d591c",
   "metadata": {},
   "outputs": [
    {
     "name": "stdout",
     "output_type": "stream",
     "text": [
      "milky way\n"
     ]
    }
   ],
   "source": [
    "#Q6 Yes we can create nested dictionary.\n",
    "d1 = {\"name\": \"Earth\", \"age\": \"100+\", \"Family\": {\"name\": \"solar\", \"galaxy\": \"milky way\"}}\n",
    "print(d1[\"Family\"][\"galaxy\"])"
   ]
  },
  {
   "cell_type": "code",
   "execution_count": 4,
   "id": "99508e2b-9495-403e-8d5c-2bb097ec69fc",
   "metadata": {},
   "outputs": [
    {
     "data": {
      "text/plain": [
       "{'language': 'Python',\n",
       " 'course': 'Data Science Masters',\n",
       " 'topics': 'Deep Learning'}"
      ]
     },
     "execution_count": 4,
     "metadata": {},
     "output_type": "execute_result"
    }
   ],
   "source": [
    "#Q7\n",
    "dict1 = {'language' : 'Python', 'course': 'Data Science Masters'}\n",
    "dict1.setdefault(\"topics\",\"Deep Learning\")\n",
    "dict1"
   ]
  },
  {
   "cell_type": "code",
   "execution_count": 11,
   "id": "62849c22-5047-492d-9b00-0fca99b5348e",
   "metadata": {},
   "outputs": [
    {
     "name": "stdout",
     "output_type": "stream",
     "text": [
      "dict_items([('Sport', 'Cricket'), ('Teams', ['India', 'Australia', 'England', 'South Africa', 'Sri Lanka', 'New Zealand'])])\n",
      "Cricket\n",
      "dict_values(['Cricket', ['India', 'Australia', 'England', 'South Africa', 'Sri Lanka', 'New Zealand']])\n"
     ]
    }
   ],
   "source": [
    "#Q8 items(), get() & values() are the 3 build in functions to view data from dictionary.\n",
    "dict1 = {'Sport': 'Cricket' , 'Teams': ['India', 'Australia', 'England', 'South Africa', 'Sri Lanka', 'New Zealand']}\n",
    "print(dict1.items())\n",
    "print(dict1.get('Sport'))\n",
    "print(dict1.values())"
   ]
  }
 ],
 "metadata": {
  "kernelspec": {
   "display_name": "Python 3 (ipykernel)",
   "language": "python",
   "name": "python3"
  },
  "language_info": {
   "codemirror_mode": {
    "name": "ipython",
    "version": 3
   },
   "file_extension": ".py",
   "mimetype": "text/x-python",
   "name": "python",
   "nbconvert_exporter": "python",
   "pygments_lexer": "ipython3",
   "version": "3.10.8"
  }
 },
 "nbformat": 4,
 "nbformat_minor": 5
}
