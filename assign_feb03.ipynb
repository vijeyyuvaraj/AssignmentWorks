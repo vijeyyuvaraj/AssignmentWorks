{
 "cells": [
  {
   "cell_type": "code",
   "execution_count": 6,
   "id": "625d80ab-b8ac-4899-b2c9-c22db269a1ad",
   "metadata": {},
   "outputs": [
    {
     "name": "stdout",
     "output_type": "stream",
     "text": [
      "[1, 3, 5, 7, 9, 11, 13, 15, 17, 19, 21, 23, 25]\n"
     ]
    }
   ],
   "source": [
    "#Q1 def is the keyword used to create function.\n",
    "def func():\n",
    "    n = range(1,26)\n",
    "    lis = []\n",
    "    for i in n:\n",
    "        if(i%2!=0):\n",
    "            lis.append(i)\n",
    "    return lis\n",
    "print(func())    "
   ]
  },
  {
   "cell_type": "code",
   "execution_count": 13,
   "id": "56ec985e-0ed2-4556-82c3-d10caa7b2ce0",
   "metadata": {},
   "outputs": [
    {
     "name": "stdout",
     "output_type": "stream",
     "text": [
      "(1, 2, 3, 4, 5) <class 'tuple'>\n",
      "('python', ' programming') <class 'tuple'>\n",
      "{'first': 'python', 'last': 'programming'} <class 'dict'>\n",
      "{'first': 'java', 'mid': ' programming ', 'last': ' for web application'} <class 'dict'>\n"
     ]
    }
   ],
   "source": [
    "#Q2 *args is the argument type used to get n number of args for a function. **kwargs is the argument type used to \n",
    "#get n number of key value type arguments for a function.\n",
    "def func1(*args):\n",
    "    return args\n",
    "n = func1(1,2,3,4,5)\n",
    "m = func1(\"python\",\" programming\")\n",
    "print(n, type(n))\n",
    "print(m, type(m))\n",
    "\n",
    "def func2(**kwargs):\n",
    "    return kwargs\n",
    "n = func2(first='python', last='programming')\n",
    "m = func2(first='java', mid=' programming ', last=' for web application')\n",
    "print(n, type(n))\n",
    "print(m, type(m))"
   ]
  },
  {
   "cell_type": "code",
   "execution_count": 20,
   "id": "49885693-7f5c-4dcd-a005-4a28647ad9dd",
   "metadata": {},
   "outputs": [
    {
     "name": "stdout",
     "output_type": "stream",
     "text": [
      "2\n",
      "4\n",
      "6\n",
      "8\n",
      "10\n"
     ]
    }
   ],
   "source": [
    "#Q3 Iterator is a object in python that has countable numbers.\n",
    "# method used to initialize iterator - iter()\n",
    "# method used for iteration - next()\n",
    "l = [2, 4, 6, 8, 10, 12, 14, 16, 18, 20]\n",
    "iterator = iter(l)\n",
    "i = 0\n",
    "while i != 5:\n",
    "    print(next(iterator))\n",
    "    i = i+1"
   ]
  },
  {
   "cell_type": "code",
   "execution_count": 29,
   "id": "7fd40e5d-62af-445b-a8f1-c81480744a34",
   "metadata": {},
   "outputs": [
    {
     "name": "stdout",
     "output_type": "stream",
     "text": [
      "1\n",
      "4\n",
      "9\n",
      "16\n"
     ]
    }
   ],
   "source": [
    "#Q4 Generator function in python is a spl type of function which return value one by one when it is consumed. \n",
    "# yield keyword is used to give special characteristic to a variable which will be returning value to the calle in each iteration.\n",
    "def func3(x):\n",
    "    n = 1\n",
    "    while n <= x:\n",
    "        m = n**2\n",
    "        yield m\n",
    "        n = n + 1\n",
    "for i in func3(4):\n",
    "    print(i)"
   ]
  },
  {
   "cell_type": "code",
   "execution_count": 31,
   "id": "374d26d8-d293-4eb2-8cac-243798390cb5",
   "metadata": {},
   "outputs": [
    {
     "name": "stdout",
     "output_type": "stream",
     "text": [
      "3\n",
      "5\n",
      "7\n",
      "11\n",
      "13\n",
      "17\n",
      "19\n",
      "23\n",
      "29\n",
      "31\n",
      "37\n",
      "41\n",
      "43\n",
      "47\n",
      "53\n",
      "59\n",
      "61\n",
      "67\n",
      "71\n",
      "73\n",
      "79\n"
     ]
    }
   ],
   "source": [
    "#Q5 generator func for prime number generation\n",
    "import math\n",
    "def main():\n",
    "    count = 3\n",
    "    while True:\n",
    "        isprime = True       \n",
    "        for x in range(2, int(math.sqrt(count) + 1)):\n",
    "            if count % x == 0: \n",
    "                isprime = False\n",
    "                break        \n",
    "        if isprime:\n",
    "            yield count       \n",
    "        count += 1\n",
    "iterator = iter(main())\n",
    "i = 0\n",
    "while i <= 20:\n",
    "    print(next(iterator))\n",
    "    i = i + 1"
   ]
  },
  {
   "cell_type": "code",
   "execution_count": null,
   "id": "c92c874c-860a-4194-acc2-812e909b185f",
   "metadata": {},
   "outputs": [],
   "source": []
  }
 ],
 "metadata": {
  "kernelspec": {
   "display_name": "Python 3 (ipykernel)",
   "language": "python",
   "name": "python3"
  },
  "language_info": {
   "codemirror_mode": {
    "name": "ipython",
    "version": 3
   },
   "file_extension": ".py",
   "mimetype": "text/x-python",
   "name": "python",
   "nbconvert_exporter": "python",
   "pygments_lexer": "ipython3",
   "version": "3.10.8"
  }
 },
 "nbformat": 4,
 "nbformat_minor": 5
}
