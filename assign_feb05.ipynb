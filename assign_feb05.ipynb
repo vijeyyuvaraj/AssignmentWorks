{
 "cells": [
  {
   "cell_type": "markdown",
   "id": "113c9475-f9f7-4d08-8953-fdf94bc1b714",
   "metadata": {},
   "source": [
    "#Q1 Class in python is like a blueprint that is used as the base to create a object when initalized. Object in python\n",
    "is the instance of any particular class. eg a mobile phone - class & an actual mobile device is a object like in real world."
   ]
  },
  {
   "cell_type": "markdown",
   "id": "26c47b5e-f6cb-493d-8d2f-e3b67e2c717f",
   "metadata": {},
   "source": [
    "#Q2 Four piller of OOPS\n",
    "Inheritance\n",
    "Abstraction\n",
    "Polymorphism\n",
    "Encapsulation"
   ]
  },
  {
   "cell_type": "code",
   "execution_count": 10,
   "id": "69648df1-e687-4e69-89b3-22308c0dc4cb",
   "metadata": {},
   "outputs": [
    {
     "name": "stdout",
     "output_type": "stream",
     "text": [
      "5\n"
     ]
    }
   ],
   "source": [
    "#Q3 __init__() is used as constructor. It is used when creating an object to store values in the object.\n",
    "class N:\n",
    "    def __init__(self, a):\n",
    "        self.a = a\n",
    "bee= N(5)\n",
    "print(bee.a)"
   ]
  },
  {
   "cell_type": "markdown",
   "id": "fe9592e1-f29e-47bd-8f9a-082589be8cc0",
   "metadata": {},
   "source": [
    "#Q4 self in python is used to denote the pointer for the same object."
   ]
  },
  {
   "cell_type": "code",
   "execution_count": null,
   "id": "0263cb5f-9973-4ca9-af5d-6eba2ed3490a",
   "metadata": {},
   "outputs": [],
   "source": [
    "#Q5 Inheritance is the property of class that enables to access and use the properties and methods of parent class.\n"
   ]
  }
 ],
 "metadata": {
  "kernelspec": {
   "display_name": "Python 3 (ipykernel)",
   "language": "python",
   "name": "python3"
  },
  "language_info": {
   "codemirror_mode": {
    "name": "ipython",
    "version": 3
   },
   "file_extension": ".py",
   "mimetype": "text/x-python",
   "name": "python",
   "nbconvert_exporter": "python",
   "pygments_lexer": "ipython3",
   "version": "3.10.8"
  }
 },
 "nbformat": 4,
 "nbformat_minor": 5
}
